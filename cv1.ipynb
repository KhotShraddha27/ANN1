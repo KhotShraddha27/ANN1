import cv2
import numpy as np
from google.colab.patches import cv2_imshow # Import cv2_imshow

img = cv2.imread('/content/drive/MyDrive/opencv/mona.webp')

median = cv2.medianBlur(img,25)
#bilateral = cv2.bilateralFilter(img, 9, 75, 75)


# Display original and blurred images using cv2_imshow
cv2_imshow(img)
cv2_imshow(median)
#cv2_imshow(bilateral)
