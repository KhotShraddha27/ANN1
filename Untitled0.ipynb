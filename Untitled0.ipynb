{
  "nbformat": 4,
  "nbformat_minor": 0,
  "metadata": {
    "colab": {
      "provenance": [],
      "authorship_tag": "ABX9TyPnv4+ZcOIsD88jhH8U9sXo",
      "include_colab_link": true
    },
    "kernelspec": {
      "name": "python3",
      "display_name": "Python 3"
    },
    "language_info": {
      "name": "python"
    }
  },
  "cells": [
    {
      "cell_type": "markdown",
      "metadata": {
        "id": "view-in-github",
        "colab_type": "text"
      },
      "source": [
        "<a href=\"https://colab.research.google.com/github/KhotShraddha27/ANN1/blob/main/Untitled0.ipynb\" target=\"_parent\"><img src=\"https://colab.research.google.com/assets/colab-badge.svg\" alt=\"Open In Colab\"/></a>"
      ]
    },
    {
      "cell_type": "code",
      "execution_count": null,
      "metadata": {
        "colab": {
          "base_uri": "https://localhost:8080/"
        },
        "id": "lSIIimiiMbUF",
        "outputId": "8c8585e4-a587-42ed-fbf8-593b4ef9c3e3"
      },
      "outputs": [
        {
          "output_type": "stream",
          "name": "stdout",
          "text": [
            "Placement Prediction (1 = Yes, 0 = No): [[0.75762285]]\n"
          ]
        }
      ],
      "source": [
        "import numpy as np\n",
        "\n",
        "def sigmoid(x):\n",
        "    return 1 / (1 + np.exp(-x))\n",
        "\n",
        "X = np.array([[7.8, 120], [6.5, 110], [8.2, 130], [5.0, 100], [7.0, 105]])\n",
        "y = np.array([[1], [0], [1], [0], [0]])\n",
        "\n",
        "np.random.seed(1)\n",
        "input_neuron = X.shape[1]\n",
        "hidden_neuron = 3\n",
        "output_neuron = 1\n",
        "\n",
        "W1 = np.random.randn(input_neuron, hidden_neuron)\n",
        "B1 = np.random.randn(1, hidden_neuron)\n",
        "W2 = np.random.randn(hidden_neuron, output_neuron)\n",
        "B2 = np.random.randn(1, output_neuron)\n",
        "\n",
        "def feedforward(X):\n",
        "    hidden_input = np.dot(X, W1) + B1\n",
        "    hidden_output = sigmoid(hidden_input)\n",
        "\n",
        "    final_input = np.dot(hidden_output, W2) + B2  # Corrected to use W2\n",
        "    final_output = sigmoid(final_input)  # Fixed function call\n",
        "\n",
        "    return final_output\n",
        "\n",
        "new_student = np.array([[7.5, 115]])\n",
        "prediction = feedforward(new_student)\n",
        "\n",
        "print(\"Placement Prediction (1 = Yes, 0 = No):\", prediction)\n"
      ]
    },
    {
      "cell_type": "code",
      "source": [
        "import numpy as np\n",
        "\n",
        "def sigmoid(x):\n",
        "    return 1 / (1 + np.exp(-x))\n",
        "\n",
        "X = np.array([[7.8, 120], [6.5, 110], [8.2, 130], [5.0, 100], [7.0, 105]])\n",
        "y = np.array([[1], [0], [1], [0], [0]])\n",
        "\n",
        "np.random.seed(1)\n",
        "input_neuron = X.shape[1]\n",
        "hidden_neuron1 = 4\n",
        "hidden_neuron2 = 3\n",
        "output_neuron = 1\n",
        "\n",
        "W1 = np.random.randn(input_neuron, hidden_neuron1)\n",
        "B1 = np.random.randn(1, hidden_neuron1)\n",
        "W2 = np.random.rand(hidden_neuron1, hidden_neuron2)\n",
        "B2 = np.random.rand(1,hidden_neuron2)\n",
        "W3 = np.random.randn(hidden_neuron2, output_neuron)\n",
        "B3 = np.random.randn(1, output_neuron)\n",
        "\n",
        "\n",
        "def feedforward(X):\n",
        "    hidden_input1 = np.dot(X, W1) + B1\n",
        "    hidden_output1 = sigmoid(hidden_input1)\n",
        "\n",
        "    hidden_input2 = np.dot(hidden_input1, W2) + B2\n",
        "    hidden_output2 = sigmoid(hidden_input2)\n",
        "\n",
        "    final_input = np.dot(hidden_output2, W3) + B3  # Corrected to use W2\n",
        "    final_output = sigmoid(final_input)  # Fixed function call\n",
        "\n",
        "    return final_output\n",
        "\n",
        "new_student = np.array([[7.5, 115]])\n",
        "prediction = feedforward(new_student)\n",
        "\n",
        "print(\"Placement Prediction (1 = Yes, 0 = No):\", prediction)"
      ],
      "metadata": {
        "colab": {
          "base_uri": "https://localhost:8080/"
        },
        "id": "J7EB0BMvNy-K",
        "outputId": "d1a5537d-e4df-4650-cc09-631caacfac52"
      },
      "execution_count": null,
      "outputs": [
        {
          "output_type": "stream",
          "name": "stdout",
          "text": [
            "Placement Prediction (1 = Yes, 0 = No): [[0.31028269]]\n"
          ]
        }
      ]
    }
  ]
}