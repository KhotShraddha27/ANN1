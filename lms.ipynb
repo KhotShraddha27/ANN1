{
  "nbformat": 4,
  "nbformat_minor": 0,
  "metadata": {
    "colab": {
      "provenance": [],
      "authorship_tag": "ABX9TyNMMJMjlX06mY/bSyKAYUkU",
      "include_colab_link": true
    },
    "kernelspec": {
      "name": "python3",
      "display_name": "Python 3"
    },
    "language_info": {
      "name": "python"
    }
  },
  "cells": [
    {
      "cell_type": "markdown",
      "metadata": {
        "id": "view-in-github",
        "colab_type": "text"
      },
      "source": [
        "<a href=\"https://colab.research.google.com/github/KhotShraddha27/ANN1/blob/main/lms.ipynb\" target=\"_parent\"><img src=\"https://colab.research.google.com/assets/colab-badge.svg\" alt=\"Open In Colab\"/></a>"
      ]
    },
    {
      "cell_type": "code",
      "execution_count": null,
      "metadata": {
        "colab": {
          "base_uri": "https://localhost:8080/",
          "height": 666
        },
        "id": "LnuXWsfuShJd",
        "outputId": "35dee17a-dda6-4dcf-baa9-386d831f05c0"
      },
      "outputs": [
        {
          "output_type": "display_data",
          "data": {
            "text/plain": [
              "<Figure size 640x480 with 1 Axes>"
            ],
            "image/png": "[encoded data removed]"
          },
          "metadata": {}
        },
        {
          "output_type": "error",
          "ename": "AttributeError",
          "evalue": "module 'matplotlib.pyplot' has no attribute 'scaterr'",
          "traceback": [
            "\u001b[0;31m---------------------------------------------------------------------------\u001b[0m",
            "\u001b[0;31mAttributeError\u001b[0m                            Traceback (most recent call last)",
            "\u001b[0;32m<ipython-input-27-bf8548ed165e>\u001b[0m in \u001b[0;36m<cell line: 0>\u001b[0;34m()\u001b[0m\n\u001b[1;32m     37\u001b[0m \u001b[0;34m\u001b[0m\u001b[0m\n\u001b[1;32m     38\u001b[0m \u001b[0my_pred_final\u001b[0m \u001b[0;34m=\u001b[0m\u001b[0mnp\u001b[0m\u001b[0;34m.\u001b[0m\u001b[0mdot\u001b[0m\u001b[0;34m(\u001b[0m\u001b[0mX\u001b[0m\u001b[0;34m,\u001b[0m\u001b[0mw\u001b[0m\u001b[0;34m)\u001b[0m\u001b[0;34m+\u001b[0m\u001b[0mb\u001b[0m\u001b[0;34m\u001b[0m\u001b[0;34m\u001b[0m\u001b[0m\n\u001b[0;32m---> 39\u001b[0;31m \u001b[0mplt\u001b[0m\u001b[0;34m.\u001b[0m\u001b[0mscaterr\u001b[0m\u001b[0;34m(\u001b[0m\u001b[0mX\u001b[0m\u001b[0;34m,\u001b[0m\u001b[0mY\u001b[0m\u001b[0;34m,\u001b[0m\u001b[0mcolor\u001b[0m\u001b[0;34m=\u001b[0m\u001b[0;34m'blue'\u001b[0m\u001b[0;34m,\u001b[0m\u001b[0mlabel\u001b[0m\u001b[0;34m=\u001b[0m\u001b[0;34m'Actual Data'\u001b[0m\u001b[0;34m)\u001b[0m\u001b[0;34m\u001b[0m\u001b[0;34m\u001b[0m\u001b[0m\n\u001b[0m\u001b[1;32m     40\u001b[0m \u001b[0mplt\u001b[0m\u001b[0;34m.\u001b[0m\u001b[0mplot\u001b[0m\u001b[0;34m(\u001b[0m\u001b[0mX\u001b[0m\u001b[0;34m,\u001b[0m\u001b[0mY\u001b[0m\u001b[0;34m,\u001b[0m\u001b[0mcolor\u001b[0m\u001b[0;34m=\u001b[0m\u001b[0;34m'blue'\u001b[0m\u001b[0;34m,\u001b[0m\u001b[0mlabel\u001b[0m\u001b[0;34m=\u001b[0m\u001b[0;34m'LMS Prediction'\u001b[0m\u001b[0;34m,\u001b[0m\u001b[0mlinewidth\u001b[0m\u001b[0;34m=\u001b[0m\u001b[0;36m2\u001b[0m\u001b[0;34m)\u001b[0m\u001b[0;34m\u001b[0m\u001b[0;34m\u001b[0m\u001b[0m\n\u001b[1;32m     41\u001b[0m \u001b[0mplt\u001b[0m\u001b[0;34m.\u001b[0m\u001b[0mxlabel\u001b[0m\u001b[0;34m(\u001b[0m\u001b[0;34m'X'\u001b[0m\u001b[0;34m)\u001b[0m\u001b[0;34m\u001b[0m\u001b[0;34m\u001b[0m\u001b[0m\n",
            "\u001b[0;31mAttributeError\u001b[0m: module 'matplotlib.pyplot' has no attribute 'scaterr'"
          ]
        }
      ],
      "source": [
        "import numpy as np\n",
        "import matplotlib.pyplot as plt\n",
        "\n",
        "np.random.seed(42)\n",
        "X = np.linspace(-10,10,100)\n",
        "Y = 2 * X + 1 + np.random.randn(100) * 2\n",
        "\n",
        "X = X.reshape(-1,1)\n",
        "Y = Y.reshape(-1,1)\n",
        "\n",
        "w = np.random.randn(1)\n",
        "b = np.random.randn(1)\n",
        "learning_rate =0.01\n",
        "epochs =1000\n",
        "\n",
        "errors = []\n",
        "\n",
        "for epoch in range(epochs) :\n",
        "  total_error = 0\n",
        "  for i in range(len(X)):\n",
        "    y_pred =np.dot(X[i],w)+b\n",
        "    error=Y[i]-y_pred\n",
        "    w += learning_rate * error *X[i]\n",
        "    b += learning_rate * error\n",
        "\n",
        "    total_error += error**2\n",
        "    errors.append(total_error/len(X))\n",
        "\n",
        "if epoch %100==0:\n",
        "    print(f\"Epoch {epoch+1}/{epochs},Total Error : {(total_error/len(X))[0]:.4f}\")\n",
        "\n",
        "plt.plot(errors)\n",
        "plt.xlabel('Epochs')\n",
        "plt.ylabel('Mean Squared Error')\n",
        "plt.title('LMS Error Convergence')\n",
        "plt.show()\n",
        "\n",
        "y_pred_final =np.dot(X,w)+b\n",
        "plt.scaterr(X,Y,color='blue',label='Actual Data')\n",
        "plt.plot(X,Y,color='blue',label='LMS Prediction',linewidth=2)\n",
        "plt.xlabel('X')\n",
        "plt.ylabel('Y')\n",
        "plt.legend()\n",
        "plt.show()\n",
        "\n",
        "print(f\"Learned Weight: {w[0]:.4f},Learned Bias: {b[0]:.4f}\")\n",
        "\n",
        "\n"
      ]
    },
    {
      "cell_type": "code",
      "source": [
        "  import numpy as np\n",
        "\n",
        "  def sigmoid(x):\n",
        "    return 1/(1+np.exp(-x))\n",
        "\n",
        "  def sigmoid_derivate(x):\n",
        "    return x * (1-x)\n",
        "\n",
        "  def mse_loss(y_true,y_pred):\n",
        "    return np.mean((y_true - y_pred)**2)\n",
        "\n",
        "  def cross_entropy_loss(y_true,y_pred):\n",
        "    epsilon =1e-12\n",
        "    y_pred = np.clip(y_pred,epsilon,1-epsilon)\n",
        "    return -np.mean(y_true * np.log(y_pred) + (1-y_true)*np.log(1-y_pred))\n",
        "\n",
        "x = np.array([[0,0],[0,1],[1,0],[1,1]])\n",
        "y = np.array([[0],[1],[1],[0]])\n",
        "\n",
        "np.random.seed(42)\n",
        "weights = np.random.rand(2,1)\n",
        "bias = np.random.rand(1)\n",
        "\n",
        "epochs =1000\n",
        "learning_rate =0.1\n",
        "\n",
        "mse_losses = []\n",
        "ce_losses =[]\n",
        "\n",
        "for epoch in range(epochs):\n",
        "    linear_output = np.dot(x,weights) + bias\n",
        "    pred = sigmoid(linear_output)\n",
        "    mse = mse_loss(y,pred)\n",
        "    ce = cross_entropy_loss(y,pred)\n",
        "    mse_losses.append(mse)\n",
        "    ce_losses.append(ce)\n",
        "\n",
        "    error =  y - pred\n",
        "    d_pred = error * sigmoid_derivate(pred)\n",
        "    weights += learning_rate * np.dot(x.T,d_pred)\n",
        "    bias += learning_rate *np.sum(d_pred)\n",
        "\n",
        "final_preds= np.round(sigmoid(np.dot(x,weights)+bias))\n",
        "print(\"Final Predictions(rounded):\\n\",final_preds)\n",
        "print(\"\\n Final MSE Loss :\",mse_losses[-1])\n",
        "print(\"Final Cross Entropy Loss :\",ce_losses[-1])\n"
      ],
      "metadata": {
        "colab": {
          "base_uri": "https://localhost:8080/"
        },
        "id": "CbZ9SeCZhH_k",
        "outputId": "354b777f-1ae7-4333-aa4d-f8c3f73b6d52"
      },
      "execution_count": null,
      "outputs": [
        {
          "output_type": "stream",
          "name": "stdout",
          "text": [
            "Final Predictions(rounded):\n",
            " [[0.]\n",
            " [0.]\n",
            " [0.]\n",
            " [1.]]\n",
            "\n",
            " Final MSE Loss : 0.2500007856683694\n",
            "Final Cross Entropy Loss : 0.6931487506234757\n"
          ]
        }
      ]
    },
    {
      "cell_type": "code",
      "source": [
        "_"
      ],
      "metadata": {
        "id": "uu9UyFiJjCJs"
      },
      "execution_count": null,
      "outputs": []
    }
  ]
}